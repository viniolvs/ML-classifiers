{
 "cells": [
  {
   "cell_type": "markdown",
   "metadata": {},
   "source": [
    "Importando métodos necessários"
   ]
  },
  {
   "cell_type": "code",
   "execution_count": 6,
   "metadata": {},
   "outputs": [],
   "source": [
    "import pandas as pd\n",
    "import numpy as np\n",
    "import seaborn as sns\n",
    "import statistics\n",
    "from sklearn.metrics import accuracy_score\n",
    "from sklearn.metrics import classification_report, confusion_matrix\n",
    "from sklearn.utils import shuffle\n",
    "from sklearn.model_selection import train_test_split"
   ]
  },
  {
   "cell_type": "markdown",
   "metadata": {},
   "source": [
    "Importando Classificadores"
   ]
  },
  {
   "cell_type": "code",
   "execution_count": 7,
   "metadata": {},
   "outputs": [],
   "source": [
    "from sklearn.neighbors import KNeighborsClassifier # KNN\n",
    "from sklearn.tree import DecisionTreeClassifier, export_graphviz # Árvore de decisão\n",
    "from sklearn.naive_bayes import GaussianNB # Naive Bayes\n",
    "from sklearn.svm import SVC # SVM\n",
    "from sklearn.neural_network import MLPClassifier # MLP"
   ]
  },
  {
   "cell_type": "markdown",
   "metadata": {},
   "source": [
    "Importando a base de dados"
   ]
  },
  {
   "cell_type": "code",
   "execution_count": 14,
   "metadata": {},
   "outputs": [
    {
     "data": {
      "text/html": [
       "<div>\n",
       "<style scoped>\n",
       "    .dataframe tbody tr th:only-of-type {\n",
       "        vertical-align: middle;\n",
       "    }\n",
       "\n",
       "    .dataframe tbody tr th {\n",
       "        vertical-align: top;\n",
       "    }\n",
       "\n",
       "    .dataframe thead th {\n",
       "        text-align: right;\n",
       "    }\n",
       "</style>\n",
       "<table border=\"1\" class=\"dataframe\">\n",
       "  <thead>\n",
       "    <tr style=\"text-align: right;\">\n",
       "      <th></th>\n",
       "      <th>A1</th>\n",
       "      <th>A2</th>\n",
       "      <th>A3</th>\n",
       "      <th>A4</th>\n",
       "      <th>A5</th>\n",
       "      <th>A6</th>\n",
       "      <th>Class</th>\n",
       "    </tr>\n",
       "  </thead>\n",
       "  <tbody>\n",
       "    <tr>\n",
       "      <th>0</th>\n",
       "      <td>0.916917</td>\n",
       "      <td>-0.092150</td>\n",
       "      <td>0.530972</td>\n",
       "      <td>1.193210</td>\n",
       "      <td>0.075683</td>\n",
       "      <td>0.156835</td>\n",
       "      <td>1</td>\n",
       "    </tr>\n",
       "    <tr>\n",
       "      <th>1</th>\n",
       "      <td>-0.717037</td>\n",
       "      <td>0.255166</td>\n",
       "      <td>-0.661397</td>\n",
       "      <td>-1.065923</td>\n",
       "      <td>0.110390</td>\n",
       "      <td>-0.542255</td>\n",
       "      <td>1</td>\n",
       "    </tr>\n",
       "    <tr>\n",
       "      <th>2</th>\n",
       "      <td>0.863030</td>\n",
       "      <td>2.535417</td>\n",
       "      <td>-1.373191</td>\n",
       "      <td>-0.766786</td>\n",
       "      <td>-0.786488</td>\n",
       "      <td>-0.632201</td>\n",
       "      <td>1</td>\n",
       "    </tr>\n",
       "    <tr>\n",
       "      <th>3</th>\n",
       "      <td>-1.879634</td>\n",
       "      <td>-0.593594</td>\n",
       "      <td>-1.016161</td>\n",
       "      <td>-1.881891</td>\n",
       "      <td>-0.413380</td>\n",
       "      <td>-0.440434</td>\n",
       "      <td>1</td>\n",
       "    </tr>\n",
       "    <tr>\n",
       "      <th>4</th>\n",
       "      <td>-0.873743</td>\n",
       "      <td>-0.682270</td>\n",
       "      <td>-1.121570</td>\n",
       "      <td>-0.581824</td>\n",
       "      <td>-1.510616</td>\n",
       "      <td>-0.590939</td>\n",
       "      <td>1</td>\n",
       "    </tr>\n",
       "  </tbody>\n",
       "</table>\n",
       "</div>"
      ],
      "text/plain": [
       "         A1        A2        A3        A4        A5        A6  Class\n",
       "0  0.916917 -0.092150  0.530972  1.193210  0.075683  0.156835      1\n",
       "1 -0.717037  0.255166 -0.661397 -1.065923  0.110390 -0.542255      1\n",
       "2  0.863030  2.535417 -1.373191 -0.766786 -0.786488 -0.632201      1\n",
       "3 -1.879634 -0.593594 -1.016161 -1.881891 -0.413380 -0.440434      1\n",
       "4 -0.873743 -0.682270 -1.121570 -0.581824 -1.510616 -0.590939      1"
      ]
     },
     "execution_count": 14,
     "metadata": {},
     "output_type": "execute_result"
    }
   ],
   "source": [
    "df = pd.read_csv(\"Vertebral.csv\")\n",
    "df.sample(frac=1)\n",
    "df.head()"
   ]
  },
  {
   "cell_type": "code",
   "execution_count": 16,
   "metadata": {},
   "outputs": [
    {
     "data": {
      "text/html": [
       "<div>\n",
       "<style scoped>\n",
       "    .dataframe tbody tr th:only-of-type {\n",
       "        vertical-align: middle;\n",
       "    }\n",
       "\n",
       "    .dataframe tbody tr th {\n",
       "        vertical-align: top;\n",
       "    }\n",
       "\n",
       "    .dataframe thead th {\n",
       "        text-align: right;\n",
       "    }\n",
       "</style>\n",
       "<table border=\"1\" class=\"dataframe\">\n",
       "  <thead>\n",
       "    <tr style=\"text-align: right;\">\n",
       "      <th></th>\n",
       "      <th>A1</th>\n",
       "      <th>A2</th>\n",
       "      <th>A3</th>\n",
       "      <th>A4</th>\n",
       "      <th>A5</th>\n",
       "      <th>A6</th>\n",
       "    </tr>\n",
       "  </thead>\n",
       "  <tbody>\n",
       "    <tr>\n",
       "      <th>0</th>\n",
       "      <td>0.916917</td>\n",
       "      <td>-0.092150</td>\n",
       "      <td>0.530972</td>\n",
       "      <td>1.193210</td>\n",
       "      <td>0.075683</td>\n",
       "      <td>0.156835</td>\n",
       "    </tr>\n",
       "    <tr>\n",
       "      <th>1</th>\n",
       "      <td>-0.717037</td>\n",
       "      <td>0.255166</td>\n",
       "      <td>-0.661397</td>\n",
       "      <td>-1.065923</td>\n",
       "      <td>0.110390</td>\n",
       "      <td>-0.542255</td>\n",
       "    </tr>\n",
       "    <tr>\n",
       "      <th>2</th>\n",
       "      <td>0.863030</td>\n",
       "      <td>2.535417</td>\n",
       "      <td>-1.373191</td>\n",
       "      <td>-0.766786</td>\n",
       "      <td>-0.786488</td>\n",
       "      <td>-0.632201</td>\n",
       "    </tr>\n",
       "    <tr>\n",
       "      <th>3</th>\n",
       "      <td>-1.879634</td>\n",
       "      <td>-0.593594</td>\n",
       "      <td>-1.016161</td>\n",
       "      <td>-1.881891</td>\n",
       "      <td>-0.413380</td>\n",
       "      <td>-0.440434</td>\n",
       "    </tr>\n",
       "    <tr>\n",
       "      <th>4</th>\n",
       "      <td>-0.873743</td>\n",
       "      <td>-0.682270</td>\n",
       "      <td>-1.121570</td>\n",
       "      <td>-0.581824</td>\n",
       "      <td>-1.510616</td>\n",
       "      <td>-0.590939</td>\n",
       "    </tr>\n",
       "  </tbody>\n",
       "</table>\n",
       "</div>"
      ],
      "text/plain": [
       "         A1        A2        A3        A4        A5        A6\n",
       "0  0.916917 -0.092150  0.530972  1.193210  0.075683  0.156835\n",
       "1 -0.717037  0.255166 -0.661397 -1.065923  0.110390 -0.542255\n",
       "2  0.863030  2.535417 -1.373191 -0.766786 -0.786488 -0.632201\n",
       "3 -1.879634 -0.593594 -1.016161 -1.881891 -0.413380 -0.440434\n",
       "4 -0.873743 -0.682270 -1.121570 -0.581824 -1.510616 -0.590939"
      ]
     },
     "execution_count": 16,
     "metadata": {},
     "output_type": "execute_result"
    }
   ],
   "source": [
    "#define o data frame sem a classe para passagem de parâmetro\n",
    "df_temp = pd.DataFrame(df,columns=df.columns[:-1])\n",
    "df_temp.head()"
   ]
  },
  {
   "cell_type": "markdown",
   "metadata": {},
   "source": [
    "Definição dos conjuntos de treino, teste e validação"
   ]
  },
  {
   "cell_type": "code",
   "execution_count": 18,
   "metadata": {},
   "outputs": [],
   "source": [
    "#divide o dataframe em treino(50%) teste(25%) e validacao(25%)\n",
    "x_treino, x_resto, y_treino, y_resto=train_test_split(df_temp,df['Class'],test_size=0.5,train_size=0.5, stratify=df['Class'])\n",
    "x_validacao, x_teste, y_validacao, y_teste = train_test_split(x_resto, y_resto, test_size=0.5, stratify=y_resto)"
   ]
  },
  {
   "cell_type": "markdown",
   "metadata": {},
   "source": [
    "Informações dos conjuntos"
   ]
  },
  {
   "cell_type": "code",
   "execution_count": 29,
   "metadata": {},
   "outputs": [
    {
     "name": "stdout",
     "output_type": "stream",
     "text": [
      "Dataframe 100%\n",
      "(300, 7)\n",
      "Treino 50%\n",
      "(150, 6)\n",
      "Teste 25%\n",
      "(75, 6)\n",
      "Validação 25%\n",
      "(75, 6)\n"
     ]
    }
   ],
   "source": [
    "print(\"Dataframe 100%\")\n",
    "print(df.shape)\n",
    "\n",
    "print(\"Treino 50%\")\n",
    "print(x_treino.shape)\n",
    "\n",
    "print(\"Teste 25%\")\n",
    "print(x_teste.shape)\n",
    "\n",
    "print(\"Validação 25%\")\n",
    "print(x_validacao.shape)\n",
    "\n"
   ]
  },
  {
   "cell_type": "markdown",
   "metadata": {},
   "source": [
    "Obtendo os melhores parâmetros \n",
    "KNN"
   ]
  },
  {
   "cell_type": "code",
   "execution_count": null,
   "metadata": {},
   "outputs": [],
   "source": [
    "#KNN não ponderado\n"
   ]
  }
 ],
 "metadata": {
  "interpreter": {
   "hash": "916dbcbb3f70747c44a77c7bcd40155683ae19c65e1c03b4aa3499c5328201f1"
  },
  "kernelspec": {
   "display_name": "Python 3.8.10 64-bit",
   "language": "python",
   "name": "python3"
  },
  "language_info": {
   "codemirror_mode": {
    "name": "ipython",
    "version": 3
   },
   "file_extension": ".py",
   "mimetype": "text/x-python",
   "name": "python",
   "nbconvert_exporter": "python",
   "pygments_lexer": "ipython3",
   "version": "3.8.10"
  },
  "orig_nbformat": 4
 },
 "nbformat": 4,
 "nbformat_minor": 2
}
